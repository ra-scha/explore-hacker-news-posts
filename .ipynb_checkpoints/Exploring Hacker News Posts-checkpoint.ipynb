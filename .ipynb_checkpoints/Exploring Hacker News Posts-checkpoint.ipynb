{
 "cells": [
  {
   "cell_type": "markdown",
   "id": "4bb88a5c",
   "metadata": {},
   "source": [
    "# Exploring Hacker News Posts"
   ]
  },
  {
   "cell_type": "markdown",
   "id": "7b820bf4",
   "metadata": {},
   "source": [
    "## Are you curious about what posts generate the most engagement on technology and startup forums? "
   ]
  },
  {
   "cell_type": "markdown",
   "id": "cc992cf2",
   "metadata": {},
   "source": [
    "As a freelance data analyst, I recently completed a guided project that analyzed a dataset of submissions to the popular technology site, Hacker News. \n",
    "\n",
    "In this project, I focused on two types of user-submitted posts: Ask HN and Show HN.\n",
    "\n",
    "Ask HN posts are submissions where the user asks the Hacker News community a specific question, while Show HN posts are submissions where the user showcases a project, product, or something interesting.\n",
    "\n",
    "The goal was to determine which type of post received more comments on average and whether posts created at certain times of the day received more comments. \n",
    "\n",
    "Through my analysis, I discovered some fascinating insights that could help you understand the factors that contribute to engagement on online forums. \n",
    "\n",
    "With this knowledge, you could potentially improve your own online content and engagement strategies.\n",
    "\n",
    "Check out my analysis of this Hacker News dataset to learn more!"
   ]
  },
  {
   "cell_type": "markdown",
   "id": "dcaa9cbd",
   "metadata": {},
   "source": [
    "## Reading in the data"
   ]
  },
  {
   "cell_type": "markdown",
   "id": "863cf939",
   "metadata": {},
   "source": [
    "Note: The data set we're working with was reduced from almost 300,000 rows to approximately 20,000 rows by removing all submissions that did not receive any comments, and then randomly sampling from the remaining submissions."
   ]
  },
  {
   "cell_type": "code",
   "execution_count": 2,
   "id": "3bfa53a3",
   "metadata": {},
   "outputs": [],
   "source": [
    "# import modules and definitions\n",
    "\n",
    "import pandas as pd\n",
    "from csv import reader\n",
    "\n",
    "open_file = open('hacker_news.csv')\n",
    "read_file = reader(open_file)\n",
    "\n",
    "hn = list(read_file) # read it in as a list of lists\n",
    "\n",
    "\n",
    "# separating header from data\n",
    "\n",
    "headers = hn[0]\n",
    "\n",
    "hn = hn[1:]"
   ]
  },
  {
   "cell_type": "code",
   "execution_count": 3,
   "id": "f30d9297",
   "metadata": {},
   "outputs": [
    {
     "name": "stdout",
     "output_type": "stream",
     "text": [
      "['id', 'title', 'url', 'num_points', 'num_comments', 'author', 'created_at']\n",
      "\n",
      "\n",
      "[['12224879', 'Interactive Dynamic Video', 'http://www.interactivedynamicvideo.com/', '386', '52', 'ne0phyte', '8/4/2016 11:52'], ['10975351', 'How to Use Open Source and Shut the Fuck Up at the Same Time', 'http://hueniverse.com/2016/01/26/how-to-use-open-source-and-shut-the-fuck-up-at-the-same-time/', '39', '10', 'josep2', '1/26/2016 19:30'], ['11964716', \"Florida DJs May Face Felony for April Fools' Water Joke\", 'http://www.thewire.com/entertainment/2013/04/florida-djs-april-fools-water-joke/63798/', '2', '1', 'vezycash', '6/23/2016 22:20'], ['11919867', 'Technology ventures: From Idea to Enterprise', 'https://www.amazon.com/Technology-Ventures-Enterprise-Thomas-Byers/dp/0073523429', '3', '1', 'hswarna', '6/17/2016 0:01'], ['10301696', 'Note by Note: The Making of Steinway L1037 (2007)', 'http://www.nytimes.com/2007/11/07/movies/07stein.html?_r=0', '8', '2', 'walterbell', '9/30/2015 4:12'], ['10482257', 'Title II kills investment? Comcast and other ISPs are now spending more', 'http://arstechnica.com/business/2015/10/comcast-and-other-isps-boost-network-investment-despite-net-neutrality/', '53', '22', 'Deinos', '10/31/2015 9:48']]\n"
     ]
    }
   ],
   "source": [
    "# verify seperation\n",
    "\n",
    "print(headers)\n",
    "\n",
    "print('\\n')\n",
    "\n",
    "print(hn[:6])"
   ]
  },
  {
   "cell_type": "code",
   "execution_count": 4,
   "id": "b063ae16",
   "metadata": {},
   "outputs": [
    {
     "data": {
      "text/html": [
       "<div>\n",
       "<style scoped>\n",
       "    .dataframe tbody tr th:only-of-type {\n",
       "        vertical-align: middle;\n",
       "    }\n",
       "\n",
       "    .dataframe tbody tr th {\n",
       "        vertical-align: top;\n",
       "    }\n",
       "\n",
       "    .dataframe thead th {\n",
       "        text-align: right;\n",
       "    }\n",
       "</style>\n",
       "<table border=\"1\" class=\"dataframe\">\n",
       "  <thead>\n",
       "    <tr style=\"text-align: right;\">\n",
       "      <th></th>\n",
       "      <th>id</th>\n",
       "      <th>title</th>\n",
       "      <th>url</th>\n",
       "      <th>num_points</th>\n",
       "      <th>num_comments</th>\n",
       "      <th>author</th>\n",
       "      <th>created_at</th>\n",
       "    </tr>\n",
       "  </thead>\n",
       "  <tbody>\n",
       "    <tr>\n",
       "      <th>0</th>\n",
       "      <td>12224879</td>\n",
       "      <td>Interactive Dynamic Video</td>\n",
       "      <td>http://www.interactivedynamicvideo.com/</td>\n",
       "      <td>386</td>\n",
       "      <td>52</td>\n",
       "      <td>ne0phyte</td>\n",
       "      <td>8/4/2016 11:52</td>\n",
       "    </tr>\n",
       "    <tr>\n",
       "      <th>1</th>\n",
       "      <td>10975351</td>\n",
       "      <td>How to Use Open Source and Shut the Fuck Up at...</td>\n",
       "      <td>http://hueniverse.com/2016/01/26/how-to-use-op...</td>\n",
       "      <td>39</td>\n",
       "      <td>10</td>\n",
       "      <td>josep2</td>\n",
       "      <td>1/26/2016 19:30</td>\n",
       "    </tr>\n",
       "    <tr>\n",
       "      <th>2</th>\n",
       "      <td>11964716</td>\n",
       "      <td>Florida DJs May Face Felony for April Fools' W...</td>\n",
       "      <td>http://www.thewire.com/entertainment/2013/04/f...</td>\n",
       "      <td>2</td>\n",
       "      <td>1</td>\n",
       "      <td>vezycash</td>\n",
       "      <td>6/23/2016 22:20</td>\n",
       "    </tr>\n",
       "    <tr>\n",
       "      <th>3</th>\n",
       "      <td>11919867</td>\n",
       "      <td>Technology ventures: From Idea to Enterprise</td>\n",
       "      <td>https://www.amazon.com/Technology-Ventures-Ent...</td>\n",
       "      <td>3</td>\n",
       "      <td>1</td>\n",
       "      <td>hswarna</td>\n",
       "      <td>6/17/2016 0:01</td>\n",
       "    </tr>\n",
       "    <tr>\n",
       "      <th>4</th>\n",
       "      <td>10301696</td>\n",
       "      <td>Note by Note: The Making of Steinway L1037 (2007)</td>\n",
       "      <td>http://www.nytimes.com/2007/11/07/movies/07ste...</td>\n",
       "      <td>8</td>\n",
       "      <td>2</td>\n",
       "      <td>walterbell</td>\n",
       "      <td>9/30/2015 4:12</td>\n",
       "    </tr>\n",
       "  </tbody>\n",
       "</table>\n",
       "</div>"
      ],
      "text/plain": [
       "         id                                              title  \\\n",
       "0  12224879                          Interactive Dynamic Video   \n",
       "1  10975351  How to Use Open Source and Shut the Fuck Up at...   \n",
       "2  11964716  Florida DJs May Face Felony for April Fools' W...   \n",
       "3  11919867       Technology ventures: From Idea to Enterprise   \n",
       "4  10301696  Note by Note: The Making of Steinway L1037 (2007)   \n",
       "\n",
       "                                                 url num_points num_comments  \\\n",
       "0            http://www.interactivedynamicvideo.com/        386           52   \n",
       "1  http://hueniverse.com/2016/01/26/how-to-use-op...         39           10   \n",
       "2  http://www.thewire.com/entertainment/2013/04/f...          2            1   \n",
       "3  https://www.amazon.com/Technology-Ventures-Ent...          3            1   \n",
       "4  http://www.nytimes.com/2007/11/07/movies/07ste...          8            2   \n",
       "\n",
       "       author       created_at  \n",
       "0    ne0phyte   8/4/2016 11:52  \n",
       "1      josep2  1/26/2016 19:30  \n",
       "2    vezycash  6/23/2016 22:20  \n",
       "3     hswarna   6/17/2016 0:01  \n",
       "4  walterbell   9/30/2015 4:12  "
      ]
     },
     "execution_count": 4,
     "metadata": {},
     "output_type": "execute_result"
    }
   ],
   "source": [
    "# create a pandas dataframe from the list of lists - out of curiosity\n",
    "\n",
    "df = pd.DataFrame(hn, columns = headers)\n",
    "\n",
    "df.head()"
   ]
  },
  {
   "cell_type": "markdown",
   "id": "30cda08e",
   "metadata": {},
   "source": [
    "## Extracting Ask HN, Show HN, and other posts"
   ]
  },
  {
   "cell_type": "markdown",
   "id": "ad3df7b9",
   "metadata": {},
   "source": [
    "We separate posts based on whether they start with Ask HN or Show HN and collect the data for those two types of posts in different lists."
   ]
  },
  {
   "cell_type": "code",
   "execution_count": 5,
   "id": "f41133c2",
   "metadata": {},
   "outputs": [
    {
     "name": "stdout",
     "output_type": "stream",
     "text": [
      "1744\n",
      "1162\n",
      "17194\n"
     ]
    }
   ],
   "source": [
    "# collect posts into different lists\n",
    "\n",
    "ask_posts = []\n",
    "show_posts = []\n",
    "other_posts = []\n",
    "\n",
    "for row in hn: # loop through hn to separate the posts\n",
    "    title = row[1]\n",
    "    if title.lower().startswith('ask hn'):\n",
    "        ask_posts.append(row)\n",
    "    elif title.lower().startswith('show hn'):\n",
    "        show_posts.append(row)\n",
    "    else:\n",
    "        other_posts.append(row)\n",
    "\n",
    "# check the number of posts in each list        \n",
    "\n",
    "print(len(ask_posts))\n",
    "print(len(show_posts))\n",
    "print(len(other_posts))"
   ]
  },
  {
   "cell_type": "markdown",
   "id": "f1128191",
   "metadata": {},
   "source": [
    "## Calculate which posts receive more comments"
   ]
  },
  {
   "cell_type": "code",
   "execution_count": 6,
   "id": "d2f07b5b",
   "metadata": {},
   "outputs": [
    {
     "name": "stdout",
     "output_type": "stream",
     "text": [
      "24483\n",
      "14\n"
     ]
    }
   ],
   "source": [
    "# calculate the average comments per Ask HN post:\n",
    "\n",
    "total_ask_comments = 0\n",
    "\n",
    "for row in ask_posts: # sum the number of all comments\n",
    "    comments = int(row[4])\n",
    "    total_ask_comments += comments\n",
    "\n",
    "print(total_ask_comments)\n",
    "avg_ask_comments = total_ask_comments/len(ask_posts) # calculate the average number of comments\n",
    "\n",
    "print(round(avg_ask_comments))"
   ]
  },
  {
   "cell_type": "code",
   "execution_count": 7,
   "id": "6d1491e6",
   "metadata": {},
   "outputs": [
    {
     "name": "stdout",
     "output_type": "stream",
     "text": [
      "11988\n",
      "10\n"
     ]
    }
   ],
   "source": [
    "# calculate the average comments per Show HN post:\n",
    "\n",
    "total_show_comments = 0\n",
    "\n",
    "for row in show_posts: # sum the number of all comments\n",
    "    comments = int(row[4])\n",
    "    total_show_comments += comments\n",
    "\n",
    "print(total_show_comments)\n",
    "avg_show_comments = total_show_comments/len(show_posts) # calculate the average number of comments\n",
    "\n",
    "print(round(avg_show_comments))"
   ]
  },
  {
   "cell_type": "markdown",
   "id": "9ec62453",
   "metadata": {},
   "source": [
    "The results of our calculations clearly indicate that Ask HN posts receive a far greater average number of comments (14) than Show HN posts (10) do.\n",
    "\n",
    "This is not too surprising since asking question is a great way to engage people.\n",
    "\n",
    "We'll focus our further analysis just on the Ask HN posts."
   ]
  },
  {
   "cell_type": "markdown",
   "id": "3b0792e9",
   "metadata": {},
   "source": [
    "## Determine if ask posts created at a certain time are more likely to attract comments."
   ]
  },
  {
   "cell_type": "markdown",
   "id": "2e23239d",
   "metadata": {},
   "source": [
    "If we wanted to post an ask post during the hour that typically receives the most comments, we can find that hour."
   ]
  },
  {
   "cell_type": "code",
   "execution_count": 21,
   "id": "314dd4b6",
   "metadata": {},
   "outputs": [],
   "source": [
    "# calculate the number of ask posts and comments received per hour of the day\n",
    "\n",
    "import datetime as dt\n",
    "\n",
    "result_list = [] # will be a list of lists ([created_at time, number of comments received])\n",
    "\n",
    "for row in ask_posts:\n",
    "    created = row[6]\n",
    "    comments = int(row[4])\n",
    "    \n",
    "    result_list.append([created, comments])\n",
    "\n",
    "counts_by_hour = {}\n",
    "comments_by_hour = {}\n",
    "date_format = \"%m/%d/%Y %H:%M\"\n",
    "\n",
    "for row in result_list: # create datetime objects from strings\n",
    "    dt_object = dt.datetime.strptime(row[0], date_format)\n",
    "    hour = dt_object.strftime(\"%H\")\n",
    "    \n",
    "    if hour not in counts_by_hour: # use dictionaries to count posts and comments per hour\n",
    "        counts_by_hour[hour] = 1\n",
    "        comments_by_hour[hour] = row[1]\n",
    "    else:\n",
    "        counts_by_hour[hour] += 1\n",
    "        comments_by_hour[hour] += row[1]"
   ]
  },
  {
   "cell_type": "code",
   "execution_count": 22,
   "id": "5d176fe6",
   "metadata": {},
   "outputs": [
    {
     "name": "stdout",
     "output_type": "stream",
     "text": [
      "{'09': 251, '13': 1253, '10': 793, '14': 1416, '16': 1814, '23': 543, '12': 687, '17': 1146, '15': 4477, '21': 1745, '20': 1722, '02': 1381, '18': 1439, '03': 421, '05': 464, '19': 1188, '01': 683, '22': 479, '08': 492, '04': 337, '00': 447, '06': 397, '07': 267, '11': 641}\n"
     ]
    }
   ],
   "source": [
    "print(comments_by_hour)"
   ]
  },
  {
   "cell_type": "code",
   "execution_count": 33,
   "id": "46742976",
   "metadata": {},
   "outputs": [
    {
     "name": "stdout",
     "output_type": "stream",
     "text": [
      "[['09', 5.5777777777777775], ['13', 14.741176470588234], ['10', 13.440677966101696], ['14', 13.233644859813085], ['16', 16.796296296296298], ['23', 7.985294117647059], ['12', 9.41095890410959], ['17', 11.46], ['15', 38.5948275862069], ['21', 16.009174311926607], ['20', 21.525], ['02', 23.810344827586206], ['18', 13.20183486238532], ['03', 7.796296296296297], ['05', 10.08695652173913], ['19', 10.8], ['01', 11.383333333333333], ['22', 6.746478873239437], ['08', 10.25], ['04', 7.170212765957447], ['00', 8.127272727272727], ['06', 9.022727272727273], ['07', 7.852941176470588], ['11', 11.051724137931034]]\n"
     ]
    }
   ],
   "source": [
    "# calculate the average comments per hour per Ask HN post\n",
    "\n",
    "avg_by_hour = [] # will be a list of lists ([hour, average number of comments per post])\n",
    "\n",
    "for hour in comments_by_hour:\n",
    "    avg_by_hour.append([hour, comments_by_hour[hour]/counts_by_hour[hour]])\n",
    "\n",
    "print(avg_by_hour)"
   ]
  },
  {
   "cell_type": "markdown",
   "id": "eb2c21e9",
   "metadata": {},
   "source": [
    "## Let's sort this list of lists and print the five highest values in a format that's easier to read."
   ]
  },
  {
   "cell_type": "code",
   "execution_count": 34,
   "id": "a307f408",
   "metadata": {},
   "outputs": [],
   "source": [
    "# swap columns of the avg_by_hour list\n",
    "\n",
    "swap = []\n",
    "\n",
    "for row in avg_by_hour:\n",
    "    swap.append([row[1], row[0]])\n",
    "\n",
    "sorted_swap = sorted(swap, reverse = True) # sort the swapped list"
   ]
  },
  {
   "cell_type": "code",
   "execution_count": 36,
   "id": "3de60cb3",
   "metadata": {},
   "outputs": [
    {
     "name": "stdout",
     "output_type": "stream",
     "text": [
      "Top 5 Hours for Ask Posts Comments\n",
      "\n",
      "\n",
      "15:00: 38.59 average comments per post\n",
      "\n",
      "\n",
      "02:00: 23.81 average comments per post\n",
      "\n",
      "\n",
      "20:00: 21.52 average comments per post\n",
      "\n",
      "\n",
      "16:00: 16.80 average comments per post\n",
      "\n",
      "\n",
      "21:00: 16.01 average comments per post\n",
      "\n",
      "\n"
     ]
    }
   ],
   "source": [
    "print(\"Top 5 Hours for Ask Posts Comments\")\n",
    "print('\\n')\n",
    "\n",
    "for row in sorted_swap[:5]:\n",
    "    hour = dt.datetime.strptime(row[1], \"%H\").strftime(\"%H:%M\")\n",
    "    string = \"{h}: {n:.2f} average comments per post\" # output format\n",
    "    print(string.format(h = hour, n = row[0]))\n",
    "    print('\\n')\n",
    "    "
   ]
  },
  {
   "cell_type": "markdown",
   "id": "a21663f4",
   "metadata": {},
   "source": [
    "If we work under the hypothesis that the hour that typically receives the most comments per post is also the hour where we want to post our content, then 3 PM to 4 PM EST would be the ideal time. For me, this translates to 9 PM local time.\n",
    "\n",
    "Posting then, we would expect to receive about 60% more comments than during the second best hour."
   ]
  },
  {
   "cell_type": "markdown",
   "id": "fe583e88",
   "metadata": {},
   "source": [
    "## That's a wrap!"
   ]
  },
  {
   "cell_type": "markdown",
   "id": "52aa48d6",
   "metadata": {},
   "source": [
    "Per our analysis, posting an ask post between 15:00 and 16:00 (3:00 pm est - 4:00 pm est) is expected to maximise comments received per post.\n",
    "\n",
    "Of course, there is the caveat that I haven't used the full dataset for analysis as the note in \"Reading in the data\" points out."
   ]
  },
  {
   "cell_type": "markdown",
   "id": "1598af65",
   "metadata": {},
   "source": [
    "### Here are some next steps to potentially investigate"
   ]
  },
  {
   "cell_type": "code",
   "execution_count": null,
   "id": "7bfdc39b",
   "metadata": {},
   "outputs": [],
   "source": [
    "- Determine if show or ask posts receive more points on average.\n",
    "- Determine if posts created at a certain time are more likely to receive more points.\n",
    "- Compare your results to the average number of comments and points other posts receive."
   ]
  }
 ],
 "metadata": {
  "kernelspec": {
   "display_name": "Python 3 (ipykernel)",
   "language": "python",
   "name": "python3"
  },
  "language_info": {
   "codemirror_mode": {
    "name": "ipython",
    "version": 3
   },
   "file_extension": ".py",
   "mimetype": "text/x-python",
   "name": "python",
   "nbconvert_exporter": "python",
   "pygments_lexer": "ipython3",
   "version": "3.11.0"
  }
 },
 "nbformat": 4,
 "nbformat_minor": 5
}
