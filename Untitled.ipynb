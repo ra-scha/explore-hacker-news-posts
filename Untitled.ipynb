{
 "cells": [
  {
   "cell_type": "markdown",
   "id": "7f5a9959",
   "metadata": {},
   "source": [
    "# Exploring Hacker News Posts"
   ]
  },
  {
   "cell_type": "markdown",
   "id": "05f74bd8",
   "metadata": {},
   "source": [
    "## Are you curious about what posts generate the most engagement on technology and startup forums? "
   ]
  },
  {
   "cell_type": "markdown",
   "id": "263df5e7",
   "metadata": {},
   "source": [
    "As a freelance data analyst, I recently completed a guided project that analyzed a dataset of submissions to the popular technology site, Hacker News. \n",
    "\n",
    "In this project, I focused on two types of user-submitted posts: Ask HN and Show HN. \n",
    "\n",
    "The goal was to determine which type of post received more comments on average and whether posts created at certain times of the day received more comments. \n",
    "\n",
    "Through my analysis, I discovered some fascinating insights that could help you understand the factors that contribute to engagement on online forums. \n",
    "\n",
    "With this knowledge, you could potentially improve your own online content and engagement strategies.\n",
    "\n",
    "Check out my analysis of this Hacker News dataset to learn more!"
   ]
  },
  {
   "cell_type": "code",
   "execution_count": null,
   "id": "ea44334e",
   "metadata": {},
   "outputs": [],
   "source": []
  }
 ],
 "metadata": {
  "kernelspec": {
   "display_name": "Python 3 (ipykernel)",
   "language": "python",
   "name": "python3"
  },
  "language_info": {
   "codemirror_mode": {
    "name": "ipython",
    "version": 3
   },
   "file_extension": ".py",
   "mimetype": "text/x-python",
   "name": "python",
   "nbconvert_exporter": "python",
   "pygments_lexer": "ipython3",
   "version": "3.11.0"
  }
 },
 "nbformat": 4,
 "nbformat_minor": 5
}
